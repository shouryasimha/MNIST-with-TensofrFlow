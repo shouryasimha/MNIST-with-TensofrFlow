{
 "cells": [
  {
   "cell_type": "code",
   "execution_count": 1,
   "metadata": {
    "scrolled": true
   },
   "outputs": [
    {
     "name": "stdout",
     "output_type": "stream",
     "text": [
      "WARNING:tensorflow:From <ipython-input-1-daee055448f8>:5: read_data_sets (from tensorflow.contrib.learn.python.learn.datasets.mnist) is deprecated and will be removed in a future version.\n",
      "Instructions for updating:\n",
      "Please use alternatives such as official/mnist/dataset.py from tensorflow/models.\n",
      "WARNING:tensorflow:From C:\\Users\\Public\\Anaconda2\\envs\\py36\\lib\\site-packages\\tensorflow\\contrib\\learn\\python\\learn\\datasets\\mnist.py:260: maybe_download (from tensorflow.contrib.learn.python.learn.datasets.base) is deprecated and will be removed in a future version.\n",
      "Instructions for updating:\n",
      "Please write your own downloading logic.\n",
      "WARNING:tensorflow:From C:\\Users\\Public\\Anaconda2\\envs\\py36\\lib\\site-packages\\tensorflow\\contrib\\learn\\python\\learn\\datasets\\mnist.py:262: extract_images (from tensorflow.contrib.learn.python.learn.datasets.mnist) is deprecated and will be removed in a future version.\n",
      "Instructions for updating:\n",
      "Please use tf.data to implement this functionality.\n",
      "Extracting MNIST_data/train-images-idx3-ubyte.gz\n",
      "WARNING:tensorflow:From C:\\Users\\Public\\Anaconda2\\envs\\py36\\lib\\site-packages\\tensorflow\\contrib\\learn\\python\\learn\\datasets\\mnist.py:267: extract_labels (from tensorflow.contrib.learn.python.learn.datasets.mnist) is deprecated and will be removed in a future version.\n",
      "Instructions for updating:\n",
      "Please use tf.data to implement this functionality.\n",
      "Extracting MNIST_data/train-labels-idx1-ubyte.gz\n",
      "WARNING:tensorflow:From C:\\Users\\Public\\Anaconda2\\envs\\py36\\lib\\site-packages\\tensorflow\\contrib\\learn\\python\\learn\\datasets\\mnist.py:110: dense_to_one_hot (from tensorflow.contrib.learn.python.learn.datasets.mnist) is deprecated and will be removed in a future version.\n",
      "Instructions for updating:\n",
      "Please use tf.one_hot on tensors.\n",
      "Extracting MNIST_data/t10k-images-idx3-ubyte.gz\n",
      "Extracting MNIST_data/t10k-labels-idx1-ubyte.gz\n",
      "WARNING:tensorflow:From C:\\Users\\Public\\Anaconda2\\envs\\py36\\lib\\site-packages\\tensorflow\\contrib\\learn\\python\\learn\\datasets\\mnist.py:290: DataSet.__init__ (from tensorflow.contrib.learn.python.learn.datasets.mnist) is deprecated and will be removed in a future version.\n",
      "Instructions for updating:\n",
      "Please use alternatives such as official/mnist/dataset.py from tensorflow/models.\n"
     ]
    }
   ],
   "source": [
    "import numpy as np\n",
    "import tensorflow as tf\n",
    "from tensorflow.examples.tutorials.mnist import input_data\n",
    "\n",
    "mnist= input_data.read_data_sets(\"MNIST_data/\", one_hot=True)"
   ]
  },
  {
   "cell_type": "code",
   "execution_count": 2,
   "metadata": {},
   "outputs": [],
   "source": [
    "input_size = 784\n",
    "output_size = 10\n",
    "hidden_layer = 130\n",
    "\n",
    "tf.reset_default_graph()"
   ]
  },
  {
   "cell_type": "code",
   "execution_count": 3,
   "metadata": {},
   "outputs": [],
   "source": [
    "inputs= tf.placeholder(tf.float32,[None,input_size])\n",
    "targets=tf.placeholder(tf.float32,[None,output_size])"
   ]
  },
  {
   "cell_type": "code",
   "execution_count": 4,
   "metadata": {
    "scrolled": true
   },
   "outputs": [
    {
     "name": "stdout",
     "output_type": "stream",
     "text": [
      "WARNING:tensorflow:From C:\\Users\\Public\\Anaconda2\\envs\\py36\\lib\\site-packages\\tensorflow\\python\\framework\\op_def_library.py:263: colocate_with (from tensorflow.python.framework.ops) is deprecated and will be removed in a future version.\n",
      "Instructions for updating:\n",
      "Colocations handled automatically by placer.\n"
     ]
    }
   ],
   "source": [
    "weights_1= tf.get_variable(\"weights_1\",[input_size,hidden_layer])\n",
    "biases_1= tf.get_variable(\"biases_1\",[hidden_layer])"
   ]
  },
  {
   "cell_type": "code",
   "execution_count": 5,
   "metadata": {},
   "outputs": [],
   "source": [
    "outputs_1= tf.nn.relu(tf.matmul(inputs,weights_1) + biases_1)"
   ]
  },
  {
   "cell_type": "code",
   "execution_count": 6,
   "metadata": {},
   "outputs": [],
   "source": [
    "weights_2= tf.get_variable(\"weights_2\",[hidden_layer,hidden_layer])\n",
    "biases_2= tf.get_variable(\"biases_2\",[hidden_layer])\n",
    "outputs_2= tf.nn.relu(tf.matmul(outputs_1,weights_2) + biases_2)\n",
    "\n",
    "weights_3= tf.get_variable(\"weights_3\",[hidden_layer,hidden_layer])\n",
    "biases_3= tf.get_variable(\"biases_3\",[hidden_layer])\n",
    "outputs_3= tf.matmul(outputs_2,weights_3) + biases_3\n",
    "\n",
    "weights_4= tf.get_variable(\"weights_4\",[hidden_layer,output_size])\n",
    "biases_4= tf.get_variable(\"biases_4\",[output_size])\n",
    "outputs_4= tf.matmul(outputs_3,weights_4) + biases_4"
   ]
  },
  {
   "cell_type": "code",
   "execution_count": 11,
   "metadata": {},
   "outputs": [],
   "source": [
    "loss = tf.nn.softmax_cross_entropy_with_logits(logits = outputs_4, labels= targets)\n",
    "\n",
    "mean_loss=  tf.reduce_mean(loss)\n",
    "\n",
    "optimize= tf.train.AdamOptimizer(learning_rate=0.001).minimize(mean_loss)\n",
    "\n",
    "out_equals_target= tf.equal(tf.argmax(outputs_4,1), tf.argmax(targets,1))\n",
    "\n",
    "accuracy= tf.reduce_mean(tf.cast(out_equals_target,tf.float32))"
   ]
  },
  {
   "cell_type": "code",
   "execution_count": 12,
   "metadata": {},
   "outputs": [
    {
     "name": "stderr",
     "output_type": "stream",
     "text": [
      "C:\\Users\\Public\\Anaconda2\\envs\\py36\\lib\\site-packages\\tensorflow\\python\\client\\session.py:1702: UserWarning: An interactive session is already active. This can cause out-of-memory errors in some cases. You must explicitly call `InteractiveSession.close()` to release resources held by the other session(s).\n",
      "  warnings.warn('An interactive session is already active. This can '\n"
     ]
    }
   ],
   "source": [
    "sess= tf.InteractiveSession()\n",
    "\n",
    "initializer= tf.global_variables_initializer()\n",
    "\n",
    "sess.run(initializer)\n",
    "\n",
    "batch_size = 100\n",
    "\n",
    "batches= mnist.train._num_examples // batch_size\n",
    "\n",
    "max_epochs= 15\n",
    "\n",
    "prev_validation_loss = 99999999"
   ]
  },
  {
   "cell_type": "code",
   "execution_count": 13,
   "metadata": {},
   "outputs": [
    {
     "name": "stdout",
     "output_type": "stream",
     "text": [
      "epoch1.traning loss :0.277.validation loss:0.128. validation accuracy:96.40%\n",
      "epoch2.traning loss :0.110.validation loss:0.096. validation accuracy:97.14%\n",
      "epoch3.traning loss :0.073.validation loss:0.090. validation accuracy:97.06%\n",
      "epoch4.traning loss :0.055.validation loss:0.083. validation accuracy:97.58%\n",
      "epoch5.traning loss :0.045.validation loss:0.083. validation accuracy:97.84%\n",
      "end of training\n"
     ]
    }
   ],
   "source": [
    "for epoch_counter in range(max_epochs):\n",
    "    curr_epoch_loss =0\n",
    "    \n",
    "    for batch_counter in  range(batches):\n",
    "        input_batch,training_batch= mnist.train.next_batch(batch_size)\n",
    "        \n",
    "        _, batch_loss = sess.run([optimize,mean_loss],\n",
    "                                feed_dict={inputs: input_batch, targets: training_batch})\n",
    "        curr_epoch_loss += batch_loss\n",
    "        \n",
    "    curr_epoch_loss /= batches\n",
    "    \n",
    "    input_batch, training_batch = mnist.validation.next_batch(mnist.validation._num_examples)\n",
    "    validation_loss, validation_accuracy = sess.run([mean_loss,accuracy],\n",
    "                                                   feed_dict={inputs : input_batch, targets : training_batch})\n",
    "    \n",
    "    print('epoch' +str(epoch_counter+1)+\n",
    "         '.traning loss :'+'{0:.3f}'.format(curr_epoch_loss)+\n",
    "         '.validation loss:'+'{0:.3f}'.format(validation_loss)+\n",
    "         '. validation accuracy:'+'{0:.2f}'.format(validation_accuracy * 100.)+'%')\n",
    "    \n",
    "    if validation_loss > prev_validation_loss:\n",
    "        break\n",
    "        \n",
    "    prev_validation_loss = validation_loss\n",
    "    \n",
    "    \n",
    "print('end of training')\n",
    "    \n",
    "    "
   ]
  },
  {
   "cell_type": "code",
   "execution_count": 14,
   "metadata": {},
   "outputs": [
    {
     "name": "stdout",
     "output_type": "stream",
     "text": [
      "test accuracy is :97.24%\n"
     ]
    }
   ],
   "source": [
    "input_batch, training_batch = mnist.test.next_batch(mnist.test._num_examples)\n",
    "test_accuracy = sess.run([accuracy],\n",
    "                             feed_dict={inputs : input_batch, targets : training_batch})\n",
    "    \n",
    "test_accuracy_percent= test_accuracy[0] *100\n",
    "    \n",
    "print('test accuracy is :'+'{0:.2f}'.format(test_accuracy_percent)+ '%')\n",
    "    "
   ]
  },
  {
   "cell_type": "code",
   "execution_count": null,
   "metadata": {},
   "outputs": [],
   "source": []
  },
  {
   "cell_type": "code",
   "execution_count": null,
   "metadata": {},
   "outputs": [],
   "source": []
  },
  {
   "cell_type": "code",
   "execution_count": null,
   "metadata": {},
   "outputs": [],
   "source": []
  }
 ],
 "metadata": {
  "kernelspec": {
   "display_name": "Python 3",
   "language": "python",
   "name": "python3"
  },
  "language_info": {
   "codemirror_mode": {
    "name": "ipython",
    "version": 3
   },
   "file_extension": ".py",
   "mimetype": "text/x-python",
   "name": "python",
   "nbconvert_exporter": "python",
   "pygments_lexer": "ipython3",
   "version": "3.6.8"
  }
 },
 "nbformat": 4,
 "nbformat_minor": 2
}
